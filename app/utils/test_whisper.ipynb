{
 "cells": [
  {
   "cell_type": "code",
   "execution_count": 4,
   "metadata": {},
   "outputs": [
    {
     "name": "stdout",
     "output_type": "stream",
     "text": [
      "The autoreload extension is already loaded. To reload it, use:\n",
      "  %reload_ext autoreload\n"
     ]
    }
   ],
   "source": [
    "%load_ext autoreload\n",
    "%autoreload 2\n",
    "\n",
    "from transcriber import WhisperTranscriber"
   ]
  },
  {
   "cell_type": "code",
   "execution_count": 6,
   "metadata": {},
   "outputs": [
    {
     "name": "stdout",
     "output_type": "stream",
     "text": [
      "Loading model NbAiLab/nb-whisper-small-beta\n",
      "Transcribing ../../data/nrk/Debatten19okt.mp3\n"
     ]
    }
   ],
   "source": [
    "model_id = \"NbAiLab/nb-whisper-small-beta\"\n",
    "\n",
    "transcriber = WhisperTranscriber(model=model_id, out_dir=\"../data/transcriptions/\", audio_file=\"../../data/nrk/Debatten19okt.mp3\")\n",
    "\n",
    "transcriber.process()"
   ]
  }
 ],
 "metadata": {
  "kernelspec": {
   "display_name": "WHISPER",
   "language": "python",
   "name": "python3"
  },
  "language_info": {
   "codemirror_mode": {
    "name": "ipython",
    "version": 3
   },
   "file_extension": ".py",
   "mimetype": "text/x-python",
   "name": "python",
   "nbconvert_exporter": "python",
   "pygments_lexer": "ipython3",
   "version": "3.9.18"
  }
 },
 "nbformat": 4,
 "nbformat_minor": 2
}

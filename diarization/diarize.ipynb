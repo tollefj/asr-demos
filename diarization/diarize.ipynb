{
 "cells": [
  {
   "cell_type": "code",
   "execution_count": 12,
   "metadata": {},
   "outputs": [],
   "source": [
    "from pyannote.audio import Pipeline as DiarizePipe\n",
    "diarize = DiarizePipe.from_pretrained(\"pyannote/speaker-diarization-3.0\")"
   ]
  },
  {
   "cell_type": "code",
   "execution_count": 20,
   "metadata": {},
   "outputs": [],
   "source": [
    "from pydub.playback import play\n",
    "from pydub import AudioSegment\n",
    "f = \"../nrk/segments/Debatten12okt/out008.mp3\"\n",
    "audio = AudioSegment.from_mp3(f)\n",
    "diarized = diarize(f)"
   ]
  },
  {
   "cell_type": "code",
   "execution_count": 21,
   "metadata": {},
   "outputs": [
    {
     "name": "stdout",
     "output_type": "stream",
     "text": [
      "start=0.0s --> stop=7.3s speaker_SPEAKER_01\n",
      "start=7.8s --> stop=8.4s speaker_SPEAKER_01\n",
      "start=8.6s --> stop=12.6s speaker_SPEAKER_01\n",
      "start=12.9s --> stop=16.7s speaker_SPEAKER_01\n",
      "start=17.2s --> stop=17.8s speaker_SPEAKER_01\n",
      "start=18.0s --> stop=19.6s speaker_SPEAKER_01\n",
      "start=20.1s --> stop=20.6s speaker_SPEAKER_01\n",
      "start=20.9s --> stop=24.9s speaker_SPEAKER_01\n",
      "start=26.2s --> stop=28.0s speaker_SPEAKER_00\n",
      "start=28.5s --> stop=29.3s speaker_SPEAKER_00\n",
      "start=29.8s --> stop=30.0s speaker_SPEAKER_00\n"
     ]
    }
   ],
   "source": [
    "for turn, _, speaker in diarized.itertracks(yield_label=True):\n",
    "    print(f\"start={turn.start:.1f}s --> stop={turn.end:.1f}s speaker_{speaker}\")\n",
    "    segment = audio[1000*turn.start:1000*turn.end]\n",
    "    play(segment)"
   ]
  }
 ],
 "metadata": {
  "kernelspec": {
   "display_name": "WHISPER",
   "language": "python",
   "name": "python3"
  },
  "language_info": {
   "codemirror_mode": {
    "name": "ipython",
    "version": 3
   },
   "file_extension": ".py",
   "mimetype": "text/x-python",
   "name": "python",
   "nbconvert_exporter": "python",
   "pygments_lexer": "ipython3",
   "version": "3.9.18"
  }
 },
 "nbformat": 4,
 "nbformat_minor": 2
}

{
 "cells": [
  {
   "cell_type": "code",
   "execution_count": 5,
   "metadata": {},
   "outputs": [],
   "source": [
    "import jsonlines\n",
    "\n",
    "transcription_path = \"../first_tests/output/Debatten12okt.jsonl\"\n",
    "data = []\n",
    "with jsonlines.open(transcription_path) as reader:\n",
    "    for obj in reader:\n",
    "        data.append(obj)"
   ]
  },
  {
   "cell_type": "code",
   "execution_count": 25,
   "metadata": {},
   "outputs": [
    {
     "name": "stdout",
     "output_type": "stream",
     "text": [
      "{'start': 4.0, 'end': 7.67, 'text': 'This is a sentence'}\n",
      "{'start': 7.67, 'end': 11.33, 'text': 'This is another sentence'}\n",
      "{'start': 11.33, 'end': 15.0, 'text': 'This is a third sentence'}\n",
      "{'start': 0.0, 'end': 3.0, 'text': 'This is a sentence'}\n"
     ]
    }
   ],
   "source": [
    "import numpy as np\n",
    "\n",
    "def segment_sentences(start, end, txt):\n",
    "    if \".\" not in txt:\n",
    "        return [{\"start\": start, \"end\": end, \"text\": txt.strip()}]\n",
    "    sentences = [s.strip() for s in txt.split(\".\") if len(s.strip()) > 0]\n",
    "    n_sents = len(sentences)\n",
    "    time_range = np.linspace(start, end, n_sents + 1)\n",
    "    segments = []\n",
    "    for i, sentence in enumerate(sentences):\n",
    "        _start = np.round(time_range[i], 2)\n",
    "        _end = np.round(time_range[i+1], 2)\n",
    "        segments.append({\"start\": _start, \"end\": _end, \"text\": sentence})\n",
    "    return segments\n",
    "\n",
    "start=4\n",
    "end=15\n",
    "txt = \"This is a sentence. This is another sentence. This is a third sentence.\"\n",
    "\n",
    "for ss in segment_sentences(start, end, txt):\n",
    "    print(ss)\n",
    "\n",
    "for ss in segment_sentences(0, 3, \"This is a sentence.\"):\n",
    "    print(ss)"
   ]
  },
  {
   "cell_type": "code",
   "execution_count": 34,
   "metadata": {},
   "outputs": [],
   "source": [
    "import numpy as np\n",
    "\n",
    "parsed = []\n",
    "for obj in data:\n",
    "    timestamp = obj[\"timestamp\"]\n",
    "    txt = obj[\"text\"]\n",
    "    start, end = timestamp\n",
    "    parsed.extend(segment_sentences(start, end, txt))"
   ]
  },
  {
   "cell_type": "code",
   "execution_count": 41,
   "metadata": {},
   "outputs": [
    {
     "data": {
      "text/html": [
       "<div>\n",
       "<style scoped>\n",
       "    .dataframe tbody tr th:only-of-type {\n",
       "        vertical-align: middle;\n",
       "    }\n",
       "\n",
       "    .dataframe tbody tr th {\n",
       "        vertical-align: top;\n",
       "    }\n",
       "\n",
       "    .dataframe thead th {\n",
       "        text-align: right;\n",
       "    }\n",
       "</style>\n",
       "<table border=\"1\" class=\"dataframe\">\n",
       "  <thead>\n",
       "    <tr style=\"text-align: right;\">\n",
       "      <th></th>\n",
       "      <th>start</th>\n",
       "      <th>end</th>\n",
       "      <th>text</th>\n",
       "    </tr>\n",
       "  </thead>\n",
       "  <tbody>\n",
       "    <tr>\n",
       "      <th>0</th>\n",
       "      <td>3.96</td>\n",
       "      <td>5.62</td>\n",
       "      <td>Hei</td>\n",
       "    </tr>\n",
       "    <tr>\n",
       "      <th>1</th>\n",
       "      <td>5.62</td>\n",
       "      <td>7.28</td>\n",
       "      <td>Denne debatten skal handle om dette</td>\n",
       "    </tr>\n",
       "    <tr>\n",
       "      <th>2</th>\n",
       "      <td>7.28</td>\n",
       "      <td>11.50</td>\n",
       "      <td>Målet er at flest mulig skal jobbe</td>\n",
       "    </tr>\n",
       "    <tr>\n",
       "      <th>3</th>\n",
       "      <td>11.50</td>\n",
       "      <td>15.72</td>\n",
       "      <td>Derfor må det lønne seg å stå opp om morgenen</td>\n",
       "    </tr>\n",
       "    <tr>\n",
       "      <th>4</th>\n",
       "      <td>15.76</td>\n",
       "      <td>17.52</td>\n",
       "      <td>Og dette</td>\n",
       "    </tr>\n",
       "  </tbody>\n",
       "</table>\n",
       "</div>"
      ],
      "text/plain": [
       "   start    end                                           text\n",
       "0   3.96   5.62                                            Hei\n",
       "1   5.62   7.28            Denne debatten skal handle om dette\n",
       "2   7.28  11.50             Målet er at flest mulig skal jobbe\n",
       "3  11.50  15.72  Derfor må det lønne seg å stå opp om morgenen\n",
       "4  15.76  17.52                                       Og dette"
      ]
     },
     "execution_count": 41,
     "metadata": {},
     "output_type": "execute_result"
    }
   ],
   "source": [
    "import pandas as pd\n",
    "df = pd.DataFrame(parsed)\n",
    "df.head()"
   ]
  },
  {
   "cell_type": "code",
   "execution_count": 37,
   "metadata": {},
   "outputs": [],
   "source": [
    "from sentence_transformers import SentenceTransformer\n",
    "model = SentenceTransformer(\"NbAiLab/nb-sbert-base\")"
   ]
  },
  {
   "cell_type": "code",
   "execution_count": 43,
   "metadata": {},
   "outputs": [
    {
     "data": {
      "application/vnd.jupyter.widget-view+json": {
       "model_id": "949f9a9d8be0473ca0c2ee800e049094",
       "version_major": 2,
       "version_minor": 0
      },
      "text/plain": [
       "Batches:   0%|          | 0/22 [00:00<?, ?it/s]"
      ]
     },
     "metadata": {},
     "output_type": "display_data"
    }
   ],
   "source": [
    "embeddings = model.encode(df[\"text\"].tolist(), show_progress_bar=True);"
   ]
  },
  {
   "cell_type": "code",
   "execution_count": 44,
   "metadata": {},
   "outputs": [
    {
     "name": "stderr",
     "output_type": "stream",
     "text": [
      "2023-10-27 13:02:06,448 [INFO]: Using 10 omp threads (processes), consider increasing --nb_cores if you have more\n",
      "2023-10-27 13:02:06,450 [INFO]: Launching the whole pipeline 10/27/2023, 13:02:06\n",
      "2023-10-27 13:02:06,450 [INFO]: Reading total number of vectors and dimension 10/27/2023, 13:02:06\n",
      "100%|██████████| 1/1 [00:00<00:00, 33554.43it/s]\n",
      "2023-10-27 13:02:06,459 [INFO]: There are 687 embeddings of dim 768\n",
      "2023-10-27 13:02:06,459 [INFO]: >>> Finished \"Reading total number of vectors and dimension\" in 0.0091 secs\n",
      "2023-10-27 13:02:06,460 [INFO]: \tCompute estimated construction time of the index 10/27/2023, 13:02:06\n",
      "2023-10-27 13:02:06,460 [INFO]: \t\t-> Train: 16.7 minutes\n",
      "2023-10-27 13:02:06,460 [INFO]: \t\t-> Add: 0.0 seconds\n",
      "2023-10-27 13:02:06,461 [INFO]: \t\tTotal: 16.7 minutes\n",
      "2023-10-27 13:02:06,461 [INFO]: \t>>> Finished \"Compute estimated construction time of the index\" in 0.0013 secs\n",
      "2023-10-27 13:02:06,461 [INFO]: \tChecking that your have enough memory available to create the index 10/27/2023, 13:02:06\n",
      "2023-10-27 13:02:06,462 [INFO]: 2.2MB of memory will be needed to build the index (more might be used if you have more)\n",
      "2023-10-27 13:02:06,462 [INFO]: \t>>> Finished \"Checking that your have enough memory available to create the index\" in 0.0004 secs\n",
      "2023-10-27 13:02:06,463 [INFO]: \tSelecting most promising index types given data characteristics 10/27/2023, 13:02:06\n",
      "2023-10-27 13:02:06,463 [INFO]: \t>>> Finished \"Selecting most promising index types given data characteristics\" in 0.0000 secs\n",
      "2023-10-27 13:02:06,463 [INFO]: \tCreating the index 10/27/2023, 13:02:06\n",
      "2023-10-27 13:02:06,463 [INFO]: \t\t-> Instanciate the index Flat 10/27/2023, 13:02:06\n",
      "2023-10-27 13:02:06,464 [INFO]: \t\t>>> Finished \"-> Instanciate the index Flat\" in 0.0001 secs\n",
      "2023-10-27 13:02:06,464 [INFO]: \t\t-> Adding the vectors to the index 10/27/2023, 13:02:06\n",
      "2023-10-27 13:02:06,464 [INFO]: The memory available for adding the vectors is 32.0GB(total available - used by the index)\n",
      "2023-10-27 13:02:06,465 [INFO]: Using a batch size of 325520 (memory overhead 953.7MB)\n",
      "100%|██████████| 1/1 [00:00<00:00, 113.28it/s]\n",
      "2023-10-27 13:02:06,476 [INFO]: \tComputing best hyperparameters for index knn.index 10/27/2023, 13:02:06\n",
      "2023-10-27 13:02:06,476 [INFO]: \t>>> Finished \"Computing best hyperparameters for index knn.index\" in 0.0000 secs\n",
      "2023-10-27 13:02:06,477 [INFO]: The best hyperparameters are: \n",
      "2023-10-27 13:02:06,477 [INFO]: \tCompute fast metrics 10/27/2023, 13:02:06\n",
      "  0%|          | 0/1 [00:00<?, ?it/s]\n",
      "2023-10-27 13:02:06,595 [INFO]: \t>>> Finished \"Compute fast metrics\" in 0.1175 secs\n",
      "2023-10-27 13:02:06,596 [INFO]: \t\t>>> Finished \"-> Adding the vectors to the index\" in 0.1313 secs\n",
      "2023-10-27 13:02:06,596 [INFO]: {\n",
      "2023-10-27 13:02:06,596 [INFO]: \tindex_key: Flat\n",
      "2023-10-27 13:02:06,596 [INFO]: \tindex_param: \n",
      "2023-10-27 13:02:06,597 [INFO]: \tindex_path: knn.index\n",
      "2023-10-27 13:02:06,597 [INFO]: \tsize in bytes: 2110509\n",
      "2023-10-27 13:02:06,597 [INFO]: \tavg_search_speed_ms: 0.0527642377470772\n",
      "2023-10-27 13:02:06,597 [INFO]: \t99p_search_speed_ms: 0.08503399999426653\n",
      "2023-10-27 13:02:06,597 [INFO]: \treconstruction error %: 0.0\n",
      "2023-10-27 13:02:06,597 [INFO]: \tnb vectors: 687\n",
      "2023-10-27 13:02:06,598 [INFO]: \tvectors dimension: 768\n",
      "2023-10-27 13:02:06,598 [INFO]: \tcompression ratio: 0.9999786781293043\n",
      "2023-10-27 13:02:06,598 [INFO]: }\n",
      "2023-10-27 13:02:06,598 [INFO]: \t>>> Finished \"Creating the index\" in 0.1351 secs\n",
      "2023-10-27 13:02:06,599 [INFO]: >>> Finished \"Launching the whole pipeline\" in 0.1486 secs\n"
     ]
    }
   ],
   "source": [
    "from autofaiss import build_index\n",
    "index, index_infos = build_index(embeddings, save_on_disk=False);"
   ]
  },
  {
   "cell_type": "code",
   "execution_count": 51,
   "metadata": {},
   "outputs": [
    {
     "data": {
      "text/html": [
       "<div>\n",
       "<style scoped>\n",
       "    .dataframe tbody tr th:only-of-type {\n",
       "        vertical-align: middle;\n",
       "    }\n",
       "\n",
       "    .dataframe tbody tr th {\n",
       "        vertical-align: top;\n",
       "    }\n",
       "\n",
       "    .dataframe thead th {\n",
       "        text-align: right;\n",
       "    }\n",
       "</style>\n",
       "<table border=\"1\" class=\"dataframe\">\n",
       "  <thead>\n",
       "    <tr style=\"text-align: right;\">\n",
       "      <th></th>\n",
       "      <th>start</th>\n",
       "      <th>end</th>\n",
       "      <th>text</th>\n",
       "    </tr>\n",
       "  </thead>\n",
       "  <tbody>\n",
       "    <tr>\n",
       "      <th>384</th>\n",
       "      <td>1504.00</td>\n",
       "      <td>1505.04</td>\n",
       "      <td>Det er en inntektssikkerhet som gjør at man ka...</td>\n",
       "    </tr>\n",
       "    <tr>\n",
       "      <th>631</th>\n",
       "      <td>2412.20</td>\n",
       "      <td>2414.36</td>\n",
       "      <td>Ja, inntektsgrense og kompensasjonsgrad</td>\n",
       "    </tr>\n",
       "    <tr>\n",
       "      <th>78</th>\n",
       "      <td>335.08</td>\n",
       "      <td>339.72</td>\n",
       "      <td>Det er et spleiselag hvor de som jobber hver d...</td>\n",
       "    </tr>\n",
       "    <tr>\n",
       "      <th>386</th>\n",
       "      <td>1507.96</td>\n",
       "      <td>1510.80</td>\n",
       "      <td>Det er en inntektssikring</td>\n",
       "    </tr>\n",
       "    <tr>\n",
       "      <th>308</th>\n",
       "      <td>1191.00</td>\n",
       "      <td>1192.98</td>\n",
       "      <td>Det er staten som blir kompensert</td>\n",
       "    </tr>\n",
       "    <tr>\n",
       "      <th>48</th>\n",
       "      <td>218.04</td>\n",
       "      <td>220.78</td>\n",
       "      <td>Så legger vi sammen denne reduserte trygden</td>\n",
       "    </tr>\n",
       "    <tr>\n",
       "      <th>105</th>\n",
       "      <td>424.60</td>\n",
       "      <td>425.32</td>\n",
       "      <td>Det er en utfordring for den enkelte,ge uføre</td>\n",
       "    </tr>\n",
       "    <tr>\n",
       "      <th>28</th>\n",
       "      <td>123.84</td>\n",
       "      <td>126.12</td>\n",
       "      <td>Det gir svaret på hvor mye Lars sin trygd</td>\n",
       "    </tr>\n",
       "    <tr>\n",
       "      <th>305</th>\n",
       "      <td>1181.64</td>\n",
       "      <td>1184.00</td>\n",
       "      <td>Kuttet, som vi kaller kompensasjonsgrad</td>\n",
       "    </tr>\n",
       "    <tr>\n",
       "      <th>377</th>\n",
       "      <td>1471.04</td>\n",
       "      <td>1476.68</td>\n",
       "      <td>Det har noe med størrelsen på ytelsen å gjøre,...</td>\n",
       "    </tr>\n",
       "  </tbody>\n",
       "</table>\n",
       "</div>"
      ],
      "text/plain": [
       "       start      end                                               text\n",
       "384  1504.00  1505.04  Det er en inntektssikkerhet som gjør at man ka...\n",
       "631  2412.20  2414.36            Ja, inntektsgrense og kompensasjonsgrad\n",
       "78    335.08   339.72  Det er et spleiselag hvor de som jobber hver d...\n",
       "386  1507.96  1510.80                          Det er en inntektssikring\n",
       "308  1191.00  1192.98                  Det er staten som blir kompensert\n",
       "48    218.04   220.78        Så legger vi sammen denne reduserte trygden\n",
       "105   424.60   425.32      Det er en utfordring for den enkelte,ge uføre\n",
       "28    123.84   126.12          Det gir svaret på hvor mye Lars sin trygd\n",
       "305  1181.64  1184.00            Kuttet, som vi kaller kompensasjonsgrad\n",
       "377  1471.04  1476.68  Det har noe med størrelsen på ytelsen å gjøre,..."
      ]
     },
     "execution_count": 51,
     "metadata": {},
     "output_type": "execute_result"
    }
   ],
   "source": [
    "def query(q, K=10):\n",
    "    emb = model.encode([q], show_progress_bar=False)\n",
    "    _, matches = index.search(emb, K)\n",
    "    return df.iloc[matches[0]]\n",
    "\n",
    "query(\"trygd og skatt\")"
   ]
  }
 ],
 "metadata": {
  "kernelspec": {
   "display_name": "WHISPER",
   "language": "python",
   "name": "python3"
  },
  "language_info": {
   "codemirror_mode": {
    "name": "ipython",
    "version": 3
   },
   "file_extension": ".py",
   "mimetype": "text/x-python",
   "name": "python",
   "nbconvert_exporter": "python",
   "pygments_lexer": "ipython3",
   "version": "3.9.18"
  }
 },
 "nbformat": 4,
 "nbformat_minor": 2
}

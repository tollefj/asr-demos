{
 "cells": [
  {
   "cell_type": "code",
   "execution_count": 2,
   "metadata": {},
   "outputs": [],
   "source": [
    "import jsonlines\n",
    "from pydub.playback import play\n",
    "from pydub import AudioSegment\n",
    "\n",
    "audio_path = \"../nrk/Debatten12okt.mp3\"\n",
    "audio = AudioSegment.from_mp3(audio_path)\n",
    "transcription_path = \"../first_tests/output/Debatten12okt.jsonl\"\n",
    "data = []\n",
    "with jsonlines.open(transcription_path) as reader:\n",
    "    for obj in reader:\n",
    "        data.append(obj)"
   ]
  },
  {
   "cell_type": "code",
   "execution_count": 3,
   "metadata": {},
   "outputs": [
    {
     "name": "stdout",
     "output_type": "stream",
     "text": [
      "{'start': 4, 'end': 15, 'text': 'This is a sentence'}\n",
      "{'start': 4, 'end': 15, 'text': 'This is another sentence'}\n",
      "{'start': 4, 'end': 15, 'text': 'This is a third sentence'}\n",
      "{'start': 0, 'end': 3, 'text': 'This is a sentence'}\n"
     ]
    }
   ],
   "source": [
    "import numpy as np\n",
    "\n",
    "def segment_sentences(start, end, txt):\n",
    "    if \".\" not in txt:\n",
    "        return [{\"start\": start, \"end\": end, \"text\": txt.strip()}]\n",
    "    sentences = [s.strip() for s in txt.split(\".\") if len(s.strip()) > 0]\n",
    "    n_sents = len(sentences)\n",
    "    time_range = np.linspace(start, end, n_sents + 1)\n",
    "    segments = []\n",
    "    for i, sentence in enumerate(sentences):\n",
    "        # _start = np.round(time_range[i], 2)\n",
    "        # _end = np.round(time_range[i+1], 2)\n",
    "        # segments.append({\"start\": _start, \"end\": _end, \"text\": sentence})\n",
    "        segments.append({\"start\": start, \"end\": end, \"text\": sentence})\n",
    "    return segments\n",
    "\n",
    "start=4\n",
    "end=15\n",
    "txt = \"This is a sentence. This is another sentence. This is a third sentence.\"\n",
    "\n",
    "for ss in segment_sentences(start, end, txt):\n",
    "    print(ss)\n",
    "\n",
    "for ss in segment_sentences(0, 3, \"This is a sentence.\"):\n",
    "    print(ss)"
   ]
  },
  {
   "cell_type": "code",
   "execution_count": 4,
   "metadata": {},
   "outputs": [],
   "source": [
    "import numpy as np\n",
    "\n",
    "parsed = []\n",
    "for obj in data:\n",
    "    timestamp = obj[\"timestamp\"]\n",
    "    txt = obj[\"text\"]\n",
    "    start, end = timestamp\n",
    "    segments = segment_sentences(start, end, txt)\n",
    "    segments = [s for s in segments if len(s[\"text\"].split()) > 2]\n",
    "    parsed.extend(segments)"
   ]
  },
  {
   "cell_type": "code",
   "execution_count": 5,
   "metadata": {},
   "outputs": [
    {
     "data": {
      "text/html": [
       "<div>\n",
       "<style scoped>\n",
       "    .dataframe tbody tr th:only-of-type {\n",
       "        vertical-align: middle;\n",
       "    }\n",
       "\n",
       "    .dataframe tbody tr th {\n",
       "        vertical-align: top;\n",
       "    }\n",
       "\n",
       "    .dataframe thead th {\n",
       "        text-align: right;\n",
       "    }\n",
       "</style>\n",
       "<table border=\"1\" class=\"dataframe\">\n",
       "  <thead>\n",
       "    <tr style=\"text-align: right;\">\n",
       "      <th></th>\n",
       "      <th>start</th>\n",
       "      <th>end</th>\n",
       "      <th>text</th>\n",
       "    </tr>\n",
       "  </thead>\n",
       "  <tbody>\n",
       "    <tr>\n",
       "      <th>0</th>\n",
       "      <td>3.96</td>\n",
       "      <td>7.28</td>\n",
       "      <td>Denne debatten skal handle om dette</td>\n",
       "    </tr>\n",
       "    <tr>\n",
       "      <th>1</th>\n",
       "      <td>7.28</td>\n",
       "      <td>15.72</td>\n",
       "      <td>Målet er at flest mulig skal jobbe</td>\n",
       "    </tr>\n",
       "    <tr>\n",
       "      <th>2</th>\n",
       "      <td>7.28</td>\n",
       "      <td>15.72</td>\n",
       "      <td>Derfor må det lønne seg å stå opp om morgenen</td>\n",
       "    </tr>\n",
       "    <tr>\n",
       "      <th>3</th>\n",
       "      <td>17.52</td>\n",
       "      <td>21.88</td>\n",
       "      <td>Det er litt forstemmende at vi ofte får en dis...</td>\n",
       "    </tr>\n",
       "    <tr>\n",
       "      <th>4</th>\n",
       "      <td>21.96</td>\n",
       "      <td>26.96</td>\n",
       "      <td>nivået på ytelser, og altfor lite om hvordan v...</td>\n",
       "    </tr>\n",
       "  </tbody>\n",
       "</table>\n",
       "</div>"
      ],
      "text/plain": [
       "   start    end                                               text\n",
       "0   3.96   7.28                Denne debatten skal handle om dette\n",
       "1   7.28  15.72                 Målet er at flest mulig skal jobbe\n",
       "2   7.28  15.72      Derfor må det lønne seg å stå opp om morgenen\n",
       "3  17.52  21.88  Det er litt forstemmende at vi ofte får en dis...\n",
       "4  21.96  26.96  nivået på ytelser, og altfor lite om hvordan v..."
      ]
     },
     "execution_count": 5,
     "metadata": {},
     "output_type": "execute_result"
    }
   ],
   "source": [
    "import pandas as pd\n",
    "df = pd.DataFrame(parsed)\n",
    "df.head()"
   ]
  },
  {
   "cell_type": "code",
   "execution_count": 6,
   "metadata": {},
   "outputs": [],
   "source": [
    "from sentence_transformers import SentenceTransformer\n",
    "model = SentenceTransformer(\"NbAiLab/nb-sbert-base\")"
   ]
  },
  {
   "cell_type": "code",
   "execution_count": 7,
   "metadata": {},
   "outputs": [
    {
     "data": {
      "application/vnd.jupyter.widget-view+json": {
       "model_id": "7badd1c3c90e48878d6c19eed52cd401",
       "version_major": 2,
       "version_minor": 0
      },
      "text/plain": [
       "Batches:   0%|          | 0/21 [00:00<?, ?it/s]"
      ]
     },
     "metadata": {},
     "output_type": "display_data"
    }
   ],
   "source": [
    "embeddings = model.encode(df[\"text\"].tolist(), show_progress_bar=True);"
   ]
  },
  {
   "cell_type": "code",
   "execution_count": 8,
   "metadata": {},
   "outputs": [
    {
     "name": "stderr",
     "output_type": "stream",
     "text": [
      "2023-10-27 14:00:39,079 [INFO]: Using 10 omp threads (processes), consider increasing --nb_cores if you have more\n",
      "2023-10-27 14:00:39,083 [INFO]: Launching the whole pipeline 10/27/2023, 14:00:39\n",
      "2023-10-27 14:00:39,084 [INFO]: Reading total number of vectors and dimension 10/27/2023, 14:00:39\n",
      "2023-10-27 14:00:39,089 [DEBUG]: open file: /var/folders/0k/1bg63zt532nb9d86g5tk_6vh0000gn/T/tmpqawb_b2z/emb.npy\n",
      "100%|██████████| 1/1 [00:00<00:00, 28532.68it/s]\n",
      "2023-10-27 14:00:39,093 [INFO]: There are 661 embeddings of dim 768\n",
      "2023-10-27 14:00:39,093 [INFO]: >>> Finished \"Reading total number of vectors and dimension\" in 0.0091 secs\n",
      "2023-10-27 14:00:39,093 [INFO]: \tCompute estimated construction time of the index 10/27/2023, 14:00:39\n",
      "2023-10-27 14:00:39,093 [INFO]: \t\t-> Train: 16.7 minutes\n",
      "2023-10-27 14:00:39,094 [INFO]: \t\t-> Add: 0.0 seconds\n",
      "2023-10-27 14:00:39,094 [INFO]: \t\tTotal: 16.7 minutes\n",
      "2023-10-27 14:00:39,094 [INFO]: \t>>> Finished \"Compute estimated construction time of the index\" in 0.0012 secs\n",
      "2023-10-27 14:00:39,095 [INFO]: \tChecking that your have enough memory available to create the index 10/27/2023, 14:00:39\n",
      "2023-10-27 14:00:39,096 [INFO]: 2.1MB of memory will be needed to build the index (more might be used if you have more)\n",
      "2023-10-27 14:00:39,096 [INFO]: \t>>> Finished \"Checking that your have enough memory available to create the index\" in 0.0006 secs\n",
      "2023-10-27 14:00:39,096 [INFO]: \tSelecting most promising index types given data characteristics 10/27/2023, 14:00:39\n",
      "2023-10-27 14:00:39,097 [INFO]: \t>>> Finished \"Selecting most promising index types given data characteristics\" in 0.0000 secs\n",
      "2023-10-27 14:00:39,097 [INFO]: \tCreating the index 10/27/2023, 14:00:39\n",
      "2023-10-27 14:00:39,097 [INFO]: \t\t-> Instanciate the index Flat 10/27/2023, 14:00:39\n",
      "2023-10-27 14:00:39,098 [INFO]: \t\t>>> Finished \"-> Instanciate the index Flat\" in 0.0006 secs\n",
      "2023-10-27 14:00:39,098 [INFO]: \t\t-> Adding the vectors to the index 10/27/2023, 14:00:39\n",
      "2023-10-27 14:00:39,099 [INFO]: The memory available for adding the vectors is 32.0GB(total available - used by the index)\n",
      "2023-10-27 14:00:39,099 [INFO]: Using a batch size of 325520 (memory overhead 953.7MB)\n",
      "  0%|          | 0/1 [00:00<?, ?it/s]2023-10-27 14:00:39,106 [DEBUG]: open file: /var/folders/0k/1bg63zt532nb9d86g5tk_6vh0000gn/T/tmpqawb_b2z/emb.npy\n",
      "100%|██████████| 1/1 [00:00<00:00, 150.26it/s]\n",
      "2023-10-27 14:00:39,108 [INFO]: \tComputing best hyperparameters for index knn.index 10/27/2023, 14:00:39\n",
      "2023-10-27 14:00:39,109 [INFO]: \t>>> Finished \"Computing best hyperparameters for index knn.index\" in 0.0000 secs\n",
      "2023-10-27 14:00:39,109 [INFO]: The best hyperparameters are: \n",
      "2023-10-27 14:00:39,110 [INFO]: \tCompute fast metrics 10/27/2023, 14:00:39\n",
      "  0%|          | 0/1 [00:00<?, ?it/s]2023-10-27 14:00:39,115 [DEBUG]: open file: /var/folders/0k/1bg63zt532nb9d86g5tk_6vh0000gn/T/tmpqawb_b2z/emb.npy\n",
      "  0%|          | 0/1 [00:00<?, ?it/s]\n",
      "2023-10-27 14:00:39,247 [INFO]: \t>>> Finished \"Compute fast metrics\" in 0.1364 secs\n",
      "2023-10-27 14:00:39,247 [INFO]: \t\t>>> Finished \"-> Adding the vectors to the index\" in 0.1487 secs\n",
      "2023-10-27 14:00:39,247 [INFO]: {\n",
      "2023-10-27 14:00:39,248 [INFO]: \tindex_key: Flat\n",
      "2023-10-27 14:00:39,248 [INFO]: \tindex_param: \n",
      "2023-10-27 14:00:39,248 [INFO]: \tindex_path: knn.index\n",
      "2023-10-27 14:00:39,249 [INFO]: \tsize in bytes: 2030637\n",
      "2023-10-27 14:00:39,249 [INFO]: \tavg_search_speed_ms: 0.04822345158860265\n",
      "2023-10-27 14:00:39,249 [INFO]: \t99p_search_speed_ms: 0.059648809992580765\n",
      "2023-10-27 14:00:39,249 [INFO]: \treconstruction error %: 0.0\n",
      "2023-10-27 14:00:39,250 [INFO]: \tnb vectors: 661\n",
      "2023-10-27 14:00:39,250 [INFO]: \tvectors dimension: 768\n",
      "2023-10-27 14:00:39,250 [INFO]: \tcompression ratio: 0.9999778394661379\n",
      "2023-10-27 14:00:39,251 [INFO]: }\n",
      "2023-10-27 14:00:39,251 [INFO]: \t>>> Finished \"Creating the index\" in 0.1537 secs\n",
      "2023-10-27 14:00:39,251 [INFO]: >>> Finished \"Launching the whole pipeline\" in 0.1674 secs\n"
     ]
    }
   ],
   "source": [
    "from autofaiss import build_index\n",
    "index, index_infos = build_index(embeddings, save_on_disk=False, verbose=0)"
   ]
  },
  {
   "cell_type": "code",
   "execution_count": 9,
   "metadata": {},
   "outputs": [
    {
     "name": "stdout",
     "output_type": "stream",
     "text": [
      "       start      end                                               text\n",
      "338  1372.76  1377.68  Men det er også et spørsmål om hvordan vi tilp...\n",
      "102   423.88   426.04      Det er en utfordring for den enkelte,ge uføre\n",
      "377  1510.88  1517.92  Ser du på uføretrygden kontra en lavlønnsyrke,...\n"
     ]
    }
   ],
   "source": [
    "def query(q, K=10):\n",
    "    emb = model.encode([q], show_progress_bar=False)\n",
    "    _, matches = index.search(emb, K)\n",
    "    return df.iloc[matches[0]]\n",
    "\n",
    "def play_result(result):\n",
    "    start = result[\"start\"] * 1000\n",
    "    end = result[\"end\"] * 1000\n",
    "    play(audio[start:end + 300])\n",
    "\n",
    "def query_and_play(q):\n",
    "    matches = query(q, K=3)\n",
    "    print(matches)\n",
    "    for match in matches.iterrows():\n",
    "        play_result(match[1])\n",
    "\n",
    "query_and_play(\"utfordringer rundt arbeidsledighet\")"
   ]
  }
 ],
 "metadata": {
  "kernelspec": {
   "display_name": "WHISPER",
   "language": "python",
   "name": "python3"
  },
  "language_info": {
   "codemirror_mode": {
    "name": "ipython",
    "version": 3
   },
   "file_extension": ".py",
   "mimetype": "text/x-python",
   "name": "python",
   "nbconvert_exporter": "python",
   "pygments_lexer": "ipython3",
   "version": "3.9.18"
  }
 },
 "nbformat": 4,
 "nbformat_minor": 2
}

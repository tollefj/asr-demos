{
 "cells": [
  {
   "cell_type": "code",
   "execution_count": 1,
   "metadata": {},
   "outputs": [
    {
     "name": "stderr",
     "output_type": "stream",
     "text": [
      "/opt/anaconda3/envs/WHISPER/lib/python3.9/site-packages/torch/hub.py:294: UserWarning: You are about to download and run code from an untrusted repository. In a future release, this won't be allowed. To add the repository to your trusted list, change the command to {calling_fn}(..., trust_repo=False) and a command prompt will appear asking for an explicit confirmation of trust, or load(..., trust_repo=True), which will assume that the prompt is to be answered with 'yes'. You can also use load(..., trust_repo='check') which will only prompt for confirmation if the repo is not already trusted. This will eventually be the default behaviour\n",
      "  warnings.warn(\n",
      "Downloading: \"https://github.com/snakers4/silero-vad/zipball/master\" to /Users/tollef/.cache/torch/hub/master.zip\n"
     ]
    }
   ],
   "source": [
    "import torch\n",
    "model, utils = torch.hub.load(repo_or_dir='snakers4/silero-vad',\n",
    "                              model='silero_vad',\n",
    "                              force_reload=True,\n",
    "                              onnx=False)\n",
    "(get_speech_timestamps,\n",
    " save_audio,\n",
    " read_audio,\n",
    " VADIterator,\n",
    " collect_chunks) = utils"
   ]
  },
  {
   "cell_type": "code",
   "execution_count": 2,
   "metadata": {},
   "outputs": [
    {
     "ename": "KeyboardInterrupt",
     "evalue": "",
     "output_type": "error",
     "traceback": [
      "\u001b[0;31m---------------------------------------------------------------------------\u001b[0m",
      "\u001b[0;31mKeyboardInterrupt\u001b[0m                         Traceback (most recent call last)",
      "\u001b[1;32m/Users/tollef/git/PHD/SCRIBE/demo/audio_manipulation/vad.ipynb Cell 2\u001b[0m line \u001b[0;36m5\n\u001b[1;32m      <a href='vscode-notebook-cell:/Users/tollef/git/PHD/SCRIBE/demo/audio_manipulation/vad.ipynb#W2sZmlsZQ%3D%3D?line=2'>3</a>\u001b[0m SAMPLING_RATE \u001b[39m=\u001b[39m \u001b[39m16000\u001b[39m\n\u001b[1;32m      <a href='vscode-notebook-cell:/Users/tollef/git/PHD/SCRIBE/demo/audio_manipulation/vad.ipynb#W2sZmlsZQ%3D%3D?line=3'>4</a>\u001b[0m wav \u001b[39m=\u001b[39m read_audio(\u001b[39m\"\u001b[39m\u001b[39m../mp3s/harstad/kommunestyremote2020.mp3\u001b[39m\u001b[39m\"\u001b[39m, sampling_rate\u001b[39m=\u001b[39mSAMPLING_RATE)\n\u001b[0;32m----> <a href='vscode-notebook-cell:/Users/tollef/git/PHD/SCRIBE/demo/audio_manipulation/vad.ipynb#W2sZmlsZQ%3D%3D?line=4'>5</a>\u001b[0m speech_timestamps \u001b[39m=\u001b[39m get_speech_timestamps(wav, model, sampling_rate\u001b[39m=\u001b[39;49mSAMPLING_RATE)\n\u001b[1;32m      <a href='vscode-notebook-cell:/Users/tollef/git/PHD/SCRIBE/demo/audio_manipulation/vad.ipynb#W2sZmlsZQ%3D%3D?line=5'>6</a>\u001b[0m pprint(speech_timestamps)\n",
      "File \u001b[0;32m~/.cache/torch/hub/snakers4_silero-vad_master/utils_vad.py:267\u001b[0m, in \u001b[0;36mget_speech_timestamps\u001b[0;34m(audio, model, threshold, sampling_rate, min_speech_duration_ms, max_speech_duration_s, min_silence_duration_ms, window_size_samples, speech_pad_ms, return_seconds, visualize_probs, progress_tracking_callback)\u001b[0m\n\u001b[1;32m    265\u001b[0m \u001b[39mif\u001b[39;00m \u001b[39mlen\u001b[39m(chunk) \u001b[39m<\u001b[39m window_size_samples:\n\u001b[1;32m    266\u001b[0m     chunk \u001b[39m=\u001b[39m torch\u001b[39m.\u001b[39mnn\u001b[39m.\u001b[39mfunctional\u001b[39m.\u001b[39mpad(chunk, (\u001b[39m0\u001b[39m, \u001b[39mint\u001b[39m(window_size_samples \u001b[39m-\u001b[39m \u001b[39mlen\u001b[39m(chunk))))\n\u001b[0;32m--> 267\u001b[0m speech_prob \u001b[39m=\u001b[39m model(chunk, sampling_rate)\u001b[39m.\u001b[39mitem()\n\u001b[1;32m    268\u001b[0m speech_probs\u001b[39m.\u001b[39mappend(speech_prob)\n\u001b[1;32m    269\u001b[0m \u001b[39m# caculate progress and seng it to callback function\u001b[39;00m\n",
      "File \u001b[0;32m/opt/anaconda3/envs/WHISPER/lib/python3.9/site-packages/torch/nn/modules/module.py:1518\u001b[0m, in \u001b[0;36mModule._wrapped_call_impl\u001b[0;34m(self, *args, **kwargs)\u001b[0m\n\u001b[1;32m   1516\u001b[0m     \u001b[39mreturn\u001b[39;00m \u001b[39mself\u001b[39m\u001b[39m.\u001b[39m_compiled_call_impl(\u001b[39m*\u001b[39margs, \u001b[39m*\u001b[39m\u001b[39m*\u001b[39mkwargs)  \u001b[39m# type: ignore[misc]\u001b[39;00m\n\u001b[1;32m   1517\u001b[0m \u001b[39melse\u001b[39;00m:\n\u001b[0;32m-> 1518\u001b[0m     \u001b[39mreturn\u001b[39;00m \u001b[39mself\u001b[39;49m\u001b[39m.\u001b[39;49m_call_impl(\u001b[39m*\u001b[39;49margs, \u001b[39m*\u001b[39;49m\u001b[39m*\u001b[39;49mkwargs)\n",
      "File \u001b[0;32m/opt/anaconda3/envs/WHISPER/lib/python3.9/site-packages/torch/nn/modules/module.py:1527\u001b[0m, in \u001b[0;36mModule._call_impl\u001b[0;34m(self, *args, **kwargs)\u001b[0m\n\u001b[1;32m   1522\u001b[0m \u001b[39m# If we don't have any hooks, we want to skip the rest of the logic in\u001b[39;00m\n\u001b[1;32m   1523\u001b[0m \u001b[39m# this function, and just call forward.\u001b[39;00m\n\u001b[1;32m   1524\u001b[0m \u001b[39mif\u001b[39;00m \u001b[39mnot\u001b[39;00m (\u001b[39mself\u001b[39m\u001b[39m.\u001b[39m_backward_hooks \u001b[39mor\u001b[39;00m \u001b[39mself\u001b[39m\u001b[39m.\u001b[39m_backward_pre_hooks \u001b[39mor\u001b[39;00m \u001b[39mself\u001b[39m\u001b[39m.\u001b[39m_forward_hooks \u001b[39mor\u001b[39;00m \u001b[39mself\u001b[39m\u001b[39m.\u001b[39m_forward_pre_hooks\n\u001b[1;32m   1525\u001b[0m         \u001b[39mor\u001b[39;00m _global_backward_pre_hooks \u001b[39mor\u001b[39;00m _global_backward_hooks\n\u001b[1;32m   1526\u001b[0m         \u001b[39mor\u001b[39;00m _global_forward_hooks \u001b[39mor\u001b[39;00m _global_forward_pre_hooks):\n\u001b[0;32m-> 1527\u001b[0m     \u001b[39mreturn\u001b[39;00m forward_call(\u001b[39m*\u001b[39;49margs, \u001b[39m*\u001b[39;49m\u001b[39m*\u001b[39;49mkwargs)\n\u001b[1;32m   1529\u001b[0m \u001b[39mtry\u001b[39;00m:\n\u001b[1;32m   1530\u001b[0m     result \u001b[39m=\u001b[39m \u001b[39mNone\u001b[39;00m\n",
      "\u001b[0;31mKeyboardInterrupt\u001b[0m: "
     ]
    }
   ],
   "source": [
    "from pprint import pprint\n",
    "\n",
    "SAMPLING_RATE = 16000\n",
    "wav = read_audio(\"../mp3s/harstad/kommunestyremote2020.mp3\", sampling_rate=SAMPLING_RATE)\n",
    "speech_timestamps = get_speech_timestamps(wav, model, sampling_rate=SAMPLING_RATE)\n",
    "pprint(speech_timestamps)"
   ]
  }
 ],
 "metadata": {
  "kernelspec": {
   "display_name": "WHISPER",
   "language": "python",
   "name": "python3"
  },
  "language_info": {
   "codemirror_mode": {
    "name": "ipython",
    "version": 3
   },
   "file_extension": ".py",
   "mimetype": "text/x-python",
   "name": "python",
   "nbconvert_exporter": "python",
   "pygments_lexer": "ipython3",
   "version": "3.9.18"
  }
 },
 "nbformat": 4,
 "nbformat_minor": 2
}

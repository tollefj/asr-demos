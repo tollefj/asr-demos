{
 "cells": [
  {
   "cell_type": "code",
   "execution_count": null,
   "metadata": {},
   "outputs": [],
   "source": [
    "from transformers import pipeline\n",
    "import os\n",
    "\n",
    "model_id = \"NbAiLab/nb-whisper-base-beta\"\n",
    "asr = pipeline(\"automatic-speech-recognition\", model_id)"
   ]
  },
  {
   "cell_type": "code",
   "execution_count": null,
   "metadata": {},
   "outputs": [],
   "source": [
    "segment_folder = \"../mp3s-split/harstad/kommunestyremote2020/\"\n",
    "sample = sorted(os.listdir(segment_folder))[0]\n",
    "fpath = os.path.join(segment_folder, sample)\n",
    "fpath"
   ]
  },
  {
   "cell_type": "code",
   "execution_count": null,
   "metadata": {},
   "outputs": [],
   "source": []
  },
  {
   "cell_type": "code",
   "execution_count": null,
   "metadata": {},
   "outputs": [],
   "source": [
    "res = asr(\n",
    "    fpath,\n",
    "    generate_kwargs={'task': 'transcribe', 'language': 'no'},\n",
    "    return_timestamps=True,\n",
    ")\n",
    "for chunk in res[\"chunks\"]:\n",
    "    print(chunk)"
   ]
  },
  {
   "cell_type": "code",
   "execution_count": null,
   "metadata": {},
   "outputs": [],
   "source": [
    "from pydub import AudioSegment\n",
    "import IPython.display as ipd\n",
    "import ipywidgets as widgets\n",
    "from IPython.display import Audio\n",
    "Audio(fpath)\n",
    "\n",
    "chunks = res[\"chunks\"]\n",
    "timestamps = [c[\"timestamp\"] for c in chunks]\n",
    "text = [c[\"text\"] for c in chunks]\n",
    "\n",
    "audio = AudioSegment.from_file(fpath)\n",
    "play_button = widgets.Button(description=\"Play\")\n",
    "text_widget = widgets.Output()\n",
    "current_index = 0\n",
    "\n",
    "def play_audio(b):\n",
    "    global current_index\n",
    "    start, end = timestamps[current_index]\n",
    "    audio_segment = audio[start * 1000:end * 1000]\n",
    "    display(ipd.Audio(data=audio_segment.export(format=\"wav\").read(), autoplay=True))\n",
    "    with text_widget:\n",
    "        print(text[current_index])\n",
    "    current_index += 1\n",
    "\n",
    "play_button.on_click(play_audio)\n",
    "display(play_button)\n",
    "display(text_widget)"
   ]
  },
  {
   "cell_type": "code",
   "execution_count": null,
   "metadata": {},
   "outputs": [],
   "source": [
    "chunk_dict = res[\"chunks\"]\n",
    "import json\n",
    "output_fp = \"output.json\"\n",
    "# remove the file if it exists:\n",
    "if os.path.exists(output_fp):\n",
    "    os.remove(output_fp)\n",
    "\n",
    "with open(output_fp, \"w\") as f:\n",
    "    json.dump(chunk_dict, f)"
   ]
  }
 ],
 "metadata": {
  "kernelspec": {
   "display_name": "WHISPER",
   "language": "python",
   "name": "python3"
  },
  "language_info": {
   "codemirror_mode": {
    "name": "ipython",
    "version": 3
   },
   "file_extension": ".py",
   "mimetype": "text/x-python",
   "name": "python",
   "nbconvert_exporter": "python",
   "pygments_lexer": "ipython3",
   "version": "3.9.18"
  }
 },
 "nbformat": 4,
 "nbformat_minor": 2
}

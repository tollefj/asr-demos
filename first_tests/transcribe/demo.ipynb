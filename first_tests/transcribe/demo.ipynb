{
 "cells": [
  {
   "cell_type": "code",
   "execution_count": 1,
   "metadata": {},
   "outputs": [
    {
     "name": "stderr",
     "output_type": "stream",
     "text": [
      "Special tokens have been added in the vocabulary, make sure the associated word embeddings are fine-tuned or trained.\n"
     ]
    }
   ],
   "source": [
    "from transformers import pipeline\n",
    "import os\n",
    "model_id = \"NbAiLab/nb-whisper-base-beta\"\n",
    "asr = pipeline(\"automatic-speech-recognition\", model_id)"
   ]
  },
  {
   "cell_type": "code",
   "execution_count": 2,
   "metadata": {},
   "outputs": [
    {
     "name": "stdout",
     "output_type": "stream",
     "text": [
      "0.0 4040.0  Da gjør vi oss klare til å starte opp møtet.\n",
      "4160.0 11280.0  Jeg ber formannskapssekretæren om å foreta opprop.\n",
      "11280.0 14680.0  Vi skal ha noen arrangementer tidlig.\n",
      "14800.0 19880.0  Jeg foretrekker at de siste møtene først, ikke etterpå.\n",
      "20000.0 26160.0  Sånn at de tingene vi markerer, kan komme inn i referatene.\n",
      "26160.0 28960.0  Vær så god, Aud Jorun.\n",
      "0.0 3360.0  eller gatebelysning mens trailerne dundrer forbi.\n",
      "3360.0 8800.0  Saken har vært meldt Statens vegvesen, fylkeskommunen, rådmann og ordfører.\n",
      "8800.0 12400.0  Harstad har også hatt første sideoppslag.\n",
      "12520.0 18280.0  Jeg lurer på om jeg kan få et kort svar her og nå på hva som er gjort av langsiktige tiltak\n",
      "18400.0 23200.0  for å sikre de fem-seks ungene dette gjelder, eller om jeg skal ta saken med\n",
      "23320.0 27520.0  under saken som omhandler trafikksikker kommune.\n",
      "0.0 11960.0  Det ble litt i bedaling om vi skulle ta spørsmål først,\n",
      "12040.0 16800.0  og så samle opp og svare underveis eller etterpå.\n",
      "16800.0 25720.0  Til det Jorunn Skogan kunst tar opp, søker vi og påvirker.\n",
      "25800.0 29960.0  I noen tilfeller er det egen trafikksikkerhetsplan.\n",
      "0.0 5500.0  Det handler om egen trafikksikkerhetsplan og egne veier.\n",
      "5600.0 9000.0  Da er det vår penger det handler om.\n",
      "9120.0 13600.0  Når det er fylkeskommunal eller riksvei, er det påvirkerollen.\n",
      "13600.0 19200.0  Enten overfor fylkeskommunen eller overfor Statens vegvesen.\n",
      "19320.0 24480.0  Slik jeg har tolket saken og sendt den videre, handler dette om påvirkerrollen.\n",
      "24600.0 27280.0  Hvordan vi skal legge den opp.\n",
      "27280.0 29920.0  Selv om vi er en trafikksikker kommune,\n"
     ]
    },
    {
     "ename": "KeyboardInterrupt",
     "evalue": "",
     "output_type": "error",
     "traceback": [
      "\u001b[0;31m---------------------------------------------------------------------------\u001b[0m",
      "\u001b[0;31mKeyboardInterrupt\u001b[0m                         Traceback (most recent call last)",
      "\u001b[1;32m/Users/tollef/git/PHD/SCRIBE/demo/transcribe/demo.ipynb Cell 2\u001b[0m line \u001b[0;36m2\n\u001b[1;32m     <a href='vscode-notebook-cell:/Users/tollef/git/PHD/SCRIBE/demo/transcribe/demo.ipynb#W3sZmlsZQ%3D%3D?line=18'>19</a>\u001b[0m segment \u001b[39m=\u001b[39m audio[start_time:end_time]\n\u001b[1;32m     <a href='vscode-notebook-cell:/Users/tollef/git/PHD/SCRIBE/demo/transcribe/demo.ipynb#W3sZmlsZQ%3D%3D?line=19'>20</a>\u001b[0m \u001b[39mprint\u001b[39m(start_time, end_time, txt)\n\u001b[0;32m---> <a href='vscode-notebook-cell:/Users/tollef/git/PHD/SCRIBE/demo/transcribe/demo.ipynb#W3sZmlsZQ%3D%3D?line=20'>21</a>\u001b[0m play(segment)\n",
      "File \u001b[0;32m/opt/anaconda3/envs/WHISPER/lib/python3.9/site-packages/pydub/playback.py:64\u001b[0m, in \u001b[0;36mplay\u001b[0;34m(audio_segment)\u001b[0m\n\u001b[1;32m     61\u001b[0m     \u001b[39mreturn\u001b[39;00m\n\u001b[1;32m     63\u001b[0m \u001b[39mtry\u001b[39;00m:\n\u001b[0;32m---> 64\u001b[0m     _play_with_pyaudio(audio_segment)\n\u001b[1;32m     65\u001b[0m     \u001b[39mreturn\u001b[39;00m\n\u001b[1;32m     66\u001b[0m \u001b[39mexcept\u001b[39;00m \u001b[39mImportError\u001b[39;00m:\n",
      "File \u001b[0;32m/opt/anaconda3/envs/WHISPER/lib/python3.9/site-packages/pydub/playback.py:33\u001b[0m, in \u001b[0;36m_play_with_pyaudio\u001b[0;34m(seg)\u001b[0m\n\u001b[1;32m     30\u001b[0m \u001b[39mtry\u001b[39;00m:\n\u001b[1;32m     31\u001b[0m     \u001b[39m# break audio into half-second chunks (to allows keyboard interrupts)\u001b[39;00m\n\u001b[1;32m     32\u001b[0m     \u001b[39mfor\u001b[39;00m chunk \u001b[39min\u001b[39;00m make_chunks(seg, \u001b[39m500\u001b[39m):\n\u001b[0;32m---> 33\u001b[0m         stream\u001b[39m.\u001b[39;49mwrite(chunk\u001b[39m.\u001b[39;49m_data)\n\u001b[1;32m     34\u001b[0m \u001b[39mfinally\u001b[39;00m:\n\u001b[1;32m     35\u001b[0m     stream\u001b[39m.\u001b[39mstop_stream()\n",
      "File \u001b[0;32m/opt/anaconda3/envs/WHISPER/lib/python3.9/site-packages/pyaudio/__init__.py:550\u001b[0m, in \u001b[0;36mPyAudio.Stream.write\u001b[0;34m(self, frames, num_frames, exception_on_underflow)\u001b[0m\n\u001b[1;32m    547\u001b[0m     width \u001b[39m=\u001b[39m get_sample_size(\u001b[39mself\u001b[39m\u001b[39m.\u001b[39m_format)\n\u001b[1;32m    548\u001b[0m     num_frames \u001b[39m=\u001b[39m \u001b[39mint\u001b[39m(\u001b[39mlen\u001b[39m(frames) \u001b[39m/\u001b[39m (\u001b[39mself\u001b[39m\u001b[39m.\u001b[39m_channels \u001b[39m*\u001b[39m width))\n\u001b[0;32m--> 550\u001b[0m pa\u001b[39m.\u001b[39;49mwrite_stream(\u001b[39mself\u001b[39;49m\u001b[39m.\u001b[39;49m_stream, frames, num_frames,\n\u001b[1;32m    551\u001b[0m                 exception_on_underflow)\n",
      "\u001b[0;31mKeyboardInterrupt\u001b[0m: "
     ]
    }
   ],
   "source": [
    "from pydub import AudioSegment\n",
    "from pydub.playback import play\n",
    "\n",
    "segment_folder = \"../mp3s-split/harstad/kommunestyremote2020/\"\n",
    "for sample in sorted(os.listdir(segment_folder)):\n",
    "    fpath = os.path.join(segment_folder, sample)\n",
    "    audio = AudioSegment.from_file(fpath)\n",
    "    res = asr(\n",
    "        fpath,\n",
    "        generate_kwargs={'task': 'transcribe', 'language': 'no'},\n",
    "        return_timestamps=True,\n",
    "    )\n",
    "    chunks = res[\"chunks\"]\n",
    "    timestamps = [c[\"timestamp\"] for c in chunks]\n",
    "    text = [c[\"text\"] for c in chunks]\n",
    "    for (start, end), txt in zip(timestamps, text):\n",
    "        start_time = float(start) * 1000\n",
    "        end_time = float(end) * 1000\n",
    "        segment = audio[start_time:end_time]\n",
    "        print(start_time, end_time, txt)\n",
    "        play(segment)"
   ]
  }
 ],
 "metadata": {
  "kernelspec": {
   "display_name": "WHISPER",
   "language": "python",
   "name": "python3"
  },
  "language_info": {
   "codemirror_mode": {
    "name": "ipython",
    "version": 3
   },
   "file_extension": ".py",
   "mimetype": "text/x-python",
   "name": "python",
   "nbconvert_exporter": "python",
   "pygments_lexer": "ipython3",
   "version": "3.9.18"
  }
 },
 "nbformat": 4,
 "nbformat_minor": 2
}
